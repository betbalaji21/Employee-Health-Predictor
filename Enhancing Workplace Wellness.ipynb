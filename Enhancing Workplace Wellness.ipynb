{
 "cells": [
  {
   "cell_type": "code",
   "execution_count": 1,
   "id": "233dd65c-245b-4091-a6a9-520953dddbbd",
   "metadata": {},
   "outputs": [],
   "source": [
    "# importing the library\n",
    "\n",
    "import pandas as pd\n",
    "import numpy as np\n",
    "import math\n",
    "import matplotlib.pyplot as plt\n",
    "import seaborn as sns\n",
    "from sklearn.preprocessing import LabelEncoder\n",
    "from sklearn.model_selection import train_test_split\n",
    "from sklearn.metrics import confusion_matrix , accuracy_score, f1_score\n",
    "from sklearn.preprocessing import StandardScaler\n",
    "from sklearn.model_selection import GridSearchCV\n",
    "from sklearn.model_selection import cross_val_score\n",
    "from sklearn import preprocessing\n",
    "from collections import Counter\n",
    "\n",
    "\n",
    "from sklearn.linear_model import LogisticRegression\n",
    "from sklearn.ensemble import RandomForestClassifier\n",
    "from sklearn.tree import DecisionTreeClassifier\n",
    "from sklearn.neighbors import KNeighborsClassifier\n",
    "from sklearn.svm import SVC\n",
    "from sklearn.ensemble import AdaBoostClassifier"
   ]
  },
  {
   "cell_type": "markdown",
   "id": "e33bce6e-a84e-40b9-b58c-1f5ad104e033",
   "metadata": {},
   "source": [
    "# Data Preprocessing \n"
   ]
  },
  {
   "cell_type": "code",
   "execution_count": 2,
   "id": "5381d27e-fbe5-4874-bd2a-dbcb213da5ca",
   "metadata": {},
   "outputs": [],
   "source": [
    "# file reading using pandas\n",
    "\n",
    "emp = pd.read_csv(r'D:\\IMARTICUS\\Level 2\\employee_train.csv')"
   ]
  },
  {
   "cell_type": "code",
   "execution_count": 3,
   "id": "6eb1d966-8036-4236-9203-cc9da612ab07",
   "metadata": {},
   "outputs": [
    {
     "data": {
      "text/plain": [
       "(1048, 28)"
      ]
     },
     "execution_count": 3,
     "metadata": {},
     "output_type": "execute_result"
    }
   ],
   "source": [
    "emp.shape"
   ]
  },
  {
   "cell_type": "code",
   "execution_count": 4,
   "id": "57f2905d-570e-41fe-96a9-c1b00d63b05a",
   "metadata": {},
   "outputs": [],
   "source": [
    "pd.set_option(\"display.max_columns\",None)"
   ]
  },
  {
   "cell_type": "code",
   "execution_count": 5,
   "id": "1807a3d9-4e1f-4233-b12c-1ba4b4c22f58",
   "metadata": {},
   "outputs": [
    {
     "data": {
      "text/html": [
       "<div>\n",
       "<style scoped>\n",
       "    .dataframe tbody tr th:only-of-type {\n",
       "        vertical-align: middle;\n",
       "    }\n",
       "\n",
       "    .dataframe tbody tr th {\n",
       "        vertical-align: top;\n",
       "    }\n",
       "\n",
       "    .dataframe thead th {\n",
       "        text-align: right;\n",
       "    }\n",
       "</style>\n",
       "<table border=\"1\" class=\"dataframe\">\n",
       "  <thead>\n",
       "    <tr style=\"text-align: right;\">\n",
       "      <th></th>\n",
       "      <th>S.No</th>\n",
       "      <th>Timestamp</th>\n",
       "      <th>Age</th>\n",
       "      <th>Gender</th>\n",
       "      <th>Country</th>\n",
       "      <th>state</th>\n",
       "      <th>self_employed</th>\n",
       "      <th>family_history</th>\n",
       "      <th>treatment</th>\n",
       "      <th>work_interfere</th>\n",
       "      <th>no_employees</th>\n",
       "      <th>remote_work</th>\n",
       "      <th>tech_company</th>\n",
       "      <th>benefits</th>\n",
       "      <th>care_options</th>\n",
       "      <th>wellness_program</th>\n",
       "      <th>seek_help</th>\n",
       "      <th>anonymity</th>\n",
       "      <th>leave</th>\n",
       "      <th>mental_health_consequence</th>\n",
       "      <th>phys_health_consequence</th>\n",
       "      <th>coworkers</th>\n",
       "      <th>supervisor</th>\n",
       "      <th>mental_health_interview</th>\n",
       "      <th>phys_health_interview</th>\n",
       "      <th>mental_vs_physical</th>\n",
       "      <th>obs_consequence</th>\n",
       "      <th>comments</th>\n",
       "    </tr>\n",
       "  </thead>\n",
       "  <tbody>\n",
       "    <tr>\n",
       "      <th>0</th>\n",
       "      <td>1</td>\n",
       "      <td>8/27/2014 11:29</td>\n",
       "      <td>37</td>\n",
       "      <td>Female</td>\n",
       "      <td>United States</td>\n",
       "      <td>IL</td>\n",
       "      <td>NaN</td>\n",
       "      <td>No</td>\n",
       "      <td>Yes</td>\n",
       "      <td>Often</td>\n",
       "      <td>25-Jun</td>\n",
       "      <td>No</td>\n",
       "      <td>Yes</td>\n",
       "      <td>Yes</td>\n",
       "      <td>Not sure</td>\n",
       "      <td>No</td>\n",
       "      <td>Yes</td>\n",
       "      <td>Yes</td>\n",
       "      <td>Somewhat easy</td>\n",
       "      <td>No</td>\n",
       "      <td>No</td>\n",
       "      <td>Some of them</td>\n",
       "      <td>Yes</td>\n",
       "      <td>No</td>\n",
       "      <td>Maybe</td>\n",
       "      <td>Yes</td>\n",
       "      <td>No</td>\n",
       "      <td>NaN</td>\n",
       "    </tr>\n",
       "  </tbody>\n",
       "</table>\n",
       "</div>"
      ],
      "text/plain": [
       "   S.No        Timestamp  Age  Gender        Country state self_employed  \\\n",
       "0     1  8/27/2014 11:29   37  Female  United States    IL           NaN   \n",
       "\n",
       "  family_history treatment work_interfere no_employees remote_work  \\\n",
       "0             No       Yes          Often       25-Jun          No   \n",
       "\n",
       "  tech_company benefits care_options wellness_program seek_help anonymity  \\\n",
       "0          Yes      Yes     Not sure               No       Yes       Yes   \n",
       "\n",
       "           leave mental_health_consequence phys_health_consequence  \\\n",
       "0  Somewhat easy                        No                      No   \n",
       "\n",
       "      coworkers supervisor mental_health_interview phys_health_interview  \\\n",
       "0  Some of them        Yes                      No                 Maybe   \n",
       "\n",
       "  mental_vs_physical obs_consequence comments  \n",
       "0                Yes              No      NaN  "
      ]
     },
     "execution_count": 5,
     "metadata": {},
     "output_type": "execute_result"
    }
   ],
   "source": [
    "emp.head(1)"
   ]
  },
  {
   "cell_type": "code",
   "execution_count": 6,
   "id": "a32d766e-6f93-48d0-bc59-7e0860b7d709",
   "metadata": {},
   "outputs": [
    {
     "name": "stdout",
     "output_type": "stream",
     "text": [
      "<class 'pandas.core.frame.DataFrame'>\n",
      "RangeIndex: 1048 entries, 0 to 1047\n",
      "Data columns (total 28 columns):\n",
      " #   Column                     Non-Null Count  Dtype \n",
      "---  ------                     --------------  ----- \n",
      " 0   S.No                       1048 non-null   int64 \n",
      " 1   Timestamp                  1048 non-null   object\n",
      " 2   Age                        1048 non-null   int64 \n",
      " 3   Gender                     1048 non-null   object\n",
      " 4   Country                    1048 non-null   object\n",
      " 5   state                      636 non-null    object\n",
      " 6   self_employed              1030 non-null   object\n",
      " 7   family_history             1048 non-null   object\n",
      " 8   treatment                  1048 non-null   object\n",
      " 9   work_interfere             812 non-null    object\n",
      " 10  no_employees               1048 non-null   object\n",
      " 11  remote_work                1048 non-null   object\n",
      " 12  tech_company               1048 non-null   object\n",
      " 13  benefits                   1035 non-null   object\n",
      " 14  care_options               1048 non-null   object\n",
      " 15  wellness_program           1044 non-null   object\n",
      " 16  seek_help                  1048 non-null   object\n",
      " 17  anonymity                  1048 non-null   object\n",
      " 18  leave                      1044 non-null   object\n",
      " 19  mental_health_consequence  1048 non-null   object\n",
      " 20  phys_health_consequence    1048 non-null   object\n",
      " 21  coworkers                  1048 non-null   object\n",
      " 22  supervisor                 1048 non-null   object\n",
      " 23  mental_health_interview    1048 non-null   object\n",
      " 24  phys_health_interview      1048 non-null   object\n",
      " 25  mental_vs_physical         1048 non-null   object\n",
      " 26  obs_consequence            1048 non-null   object\n",
      " 27  comments                   132 non-null    object\n",
      "dtypes: int64(2), object(26)\n",
      "memory usage: 229.4+ KB\n"
     ]
    }
   ],
   "source": [
    "emp.info()"
   ]
  },
  {
   "cell_type": "code",
   "execution_count": 7,
   "id": "eda3fe5b-170f-4101-9340-f7f4847b84a9",
   "metadata": {},
   "outputs": [],
   "source": [
    "emp= emp.drop(['S.No'], axis = 1)"
   ]
  },
  {
   "cell_type": "code",
   "execution_count": 8,
   "id": "6d3da43f-7608-4442-90fb-4a15e26328d7",
   "metadata": {},
   "outputs": [
    {
     "data": {
      "text/plain": [
       "state             412\n",
       "work_interfere    236\n",
       "comments          916\n",
       "dtype: int64"
      ]
     },
     "execution_count": 8,
     "metadata": {},
     "output_type": "execute_result"
    }
   ],
   "source": [
    "emp.isnull().sum()[emp.isnull().sum()*100/ emp.shape[0] >5]"
   ]
  },
  {
   "cell_type": "code",
   "execution_count": 9,
   "id": "f22d180a-b7cf-4ead-9b1f-21f226f0ebc7",
   "metadata": {},
   "outputs": [
    {
     "data": {
      "text/plain": [
       "state               412\n",
       "self_employed        18\n",
       "work_interfere      236\n",
       "benefits             13\n",
       "wellness_program      4\n",
       "leave                 4\n",
       "comments            916\n",
       "dtype: int64"
      ]
     },
     "execution_count": 9,
     "metadata": {},
     "output_type": "execute_result"
    }
   ],
   "source": [
    "emp.isnull().sum()[emp.isnull().sum() >0]"
   ]
  },
  {
   "cell_type": "code",
   "execution_count": 10,
   "id": "bd0f64c0-e296-47c7-a6d7-58c94654a748",
   "metadata": {},
   "outputs": [
    {
     "data": {
      "text/plain": [
       "No          422\n",
       "Yes         363\n",
       "Not sure    263\n",
       "Name: care_options, dtype: int64"
      ]
     },
     "execution_count": 10,
     "metadata": {},
     "output_type": "execute_result"
    }
   ],
   "source": [
    "emp.care_options.value_counts()"
   ]
  },
  {
   "cell_type": "code",
   "execution_count": null,
   "id": "8aa9ec17-dfce-4c1c-8109-778ae529b54a",
   "metadata": {},
   "outputs": [],
   "source": []
  },
  {
   "cell_type": "code",
   "execution_count": 11,
   "id": "50ebed3a-5a06-49d9-aac6-5dcea0af45a4",
   "metadata": {},
   "outputs": [],
   "source": [
    "# convert them to 3 categories: Female, Male, Other\n",
    "\n",
    "def convert_gender(Gender):\n",
    "    Gender = Gender.strip().lower()\n",
    "\n",
    "    if Gender in [ 'm', 'male', 'man', 'male-ish', 'maile', 'something kinda male?', 'cis male', 'mal', 'male (cis)', \n",
    "                  'make', 'msle', 'mail', 'cis male', 'malr', 'cis man']:\n",
    "        return 'Male'\n",
    "\n",
    "    elif Gender in ['female', 'cis female', 'f', 'woman', 'femake', 'cis-female/femme', 'female (cis)', 'femail']:\n",
    "        return 'Female'\n",
    "    \n",
    "    else:\n",
    "        return 'Other'\n",
    "    \n",
    "df = emp[['Gender']]\n",
    "df_converted = df.applymap(convert_gender) # replace entries with Male/Female\n",
    "emp['Gender'] = df_converted['Gender']"
   ]
  },
  {
   "cell_type": "code",
   "execution_count": 12,
   "id": "427a3e5c-3376-49c0-8f05-871407c6f4f0",
   "metadata": {},
   "outputs": [
    {
     "data": {
      "text/plain": [
       "Male      828\n",
       "Female    202\n",
       "Other      18\n",
       "Name: Gender, dtype: int64"
      ]
     },
     "execution_count": 12,
     "metadata": {},
     "output_type": "execute_result"
    }
   ],
   "source": [
    "emp.Gender.value_counts()"
   ]
  },
  {
   "cell_type": "code",
   "execution_count": 13,
   "id": "11e06e72-cd21-4c4b-aa8d-7649b24b6214",
   "metadata": {},
   "outputs": [],
   "source": [
    "# convert negative age values into positive\n",
    "\n",
    "emp['Age'] = emp['Age'].abs()"
   ]
  },
  {
   "cell_type": "code",
   "execution_count": 14,
   "id": "5c8c37f4-b08f-44d6-b613-c5205a973401",
   "metadata": {},
   "outputs": [],
   "source": [
    "# only focus on adult groups, age 18 to 90\n",
    "\n",
    "df2 = emp.loc[(emp['Age']>=18) & (emp['Age']<=90)]\n",
    "emp_train = df2"
   ]
  },
  {
   "cell_type": "code",
   "execution_count": 15,
   "id": "4fad0e3b-ea54-44e5-80b7-42d18827133a",
   "metadata": {},
   "outputs": [
    {
     "data": {
      "text/plain": [
       "state               412\n",
       "self_employed        18\n",
       "work_interfere      236\n",
       "benefits             13\n",
       "wellness_program      4\n",
       "leave                 4\n",
       "comments            916\n",
       "dtype: int64"
      ]
     },
     "execution_count": 15,
     "metadata": {},
     "output_type": "execute_result"
    }
   ],
   "source": [
    "emp.isnull().sum()[emp.isnull().sum() >0]"
   ]
  },
  {
   "cell_type": "code",
   "execution_count": 16,
   "id": "6658934b-eb00-46ba-ad6a-5758bc46e087",
   "metadata": {},
   "outputs": [
    {
     "data": {
      "text/plain": [
       "Don't know            462\n",
       "Somewhat easy         218\n",
       "Very easy             176\n",
       "Somewhat difficult    107\n",
       "Very difficult         81\n",
       "Name: leave, dtype: int64"
      ]
     },
     "execution_count": 16,
     "metadata": {},
     "output_type": "execute_result"
    }
   ],
   "source": [
    "emp.leave.value_counts()"
   ]
  },
  {
   "cell_type": "code",
   "execution_count": 17,
   "id": "595b560f-fb74-4d1c-a040-99c3e87e5b87",
   "metadata": {},
   "outputs": [],
   "source": [
    "emp['self_employed'].fillna(\"No\", inplace=True) \n",
    "emp['work_interfere'].fillna('Unknown', inplace=True)\n",
    "#the missing values in the \"work_interfere\" column are of particular interest. It's possible that individuals answered \"NA\" \n",
    "#because they don't believe they have health issues. I can create a new category called \"Unknown\" which implies that \n",
    "#the individual likely does not have mental health issues.\n",
    "emp['benefits'].fillna(\"Don't know\", inplace=True)\n",
    "emp['wellness_program'].fillna(\"Don't know\", inplace=True)\n",
    "emp['leave'].fillna(\"Don't know\", inplace=True)"
   ]
  },
  {
   "cell_type": "code",
   "execution_count": 18,
   "id": "43a4155a-352c-40dd-8081-9a5299361a30",
   "metadata": {},
   "outputs": [
    {
     "data": {
      "text/plain": [
       "Index(['Timestamp', 'Gender', 'Country', 'state', 'self_employed',\n",
       "       'family_history', 'treatment', 'work_interfere', 'no_employees',\n",
       "       'remote_work', 'tech_company', 'benefits', 'care_options',\n",
       "       'wellness_program', 'seek_help', 'anonymity', 'leave',\n",
       "       'mental_health_consequence', 'phys_health_consequence', 'coworkers',\n",
       "       'supervisor', 'mental_health_interview', 'phys_health_interview',\n",
       "       'mental_vs_physical', 'obs_consequence', 'comments'],\n",
       "      dtype='object')"
      ]
     },
     "execution_count": 18,
     "metadata": {},
     "output_type": "execute_result"
    }
   ],
   "source": [
    "emp.columns[emp.dtypes == 'object']"
   ]
  },
  {
   "cell_type": "code",
   "execution_count": 19,
   "id": "a3b1c823-706d-49b7-9b80-6bbb48935968",
   "metadata": {},
   "outputs": [
    {
     "data": {
      "text/plain": [
       "No          422\n",
       "Yes         363\n",
       "Not sure    263\n",
       "Name: care_options, dtype: int64"
      ]
     },
     "execution_count": 19,
     "metadata": {},
     "output_type": "execute_result"
    }
   ],
   "source": [
    "emp.care_options.value_counts()"
   ]
  },
  {
   "cell_type": "code",
   "execution_count": null,
   "id": "86af0c9a-7bba-44bc-8d7b-17e0ad341e44",
   "metadata": {},
   "outputs": [],
   "source": []
  },
  {
   "cell_type": "markdown",
   "id": "573ea4d4-78ac-4f4a-ba40-91d1d1f6184f",
   "metadata": {},
   "source": [
    "# EDA"
   ]
  },
  {
   "cell_type": "code",
   "execution_count": 20,
   "id": "ae6eedcf-f16b-405d-bbad-7229e2799f8e",
   "metadata": {},
   "outputs": [
    {
     "name": "stdout",
     "output_type": "stream",
     "text": [
      "Male      828\n",
      "Female    202\n",
      "Other      18\n",
      "Name: Gender, dtype: int64\n"
     ]
    },
    {
     "data": {
      "image/png": "[encoded data removed]",
      "text/plain": [
       "<Figure size 432x288 with 1 Axes>"
      ]
     },
     "metadata": {},
     "output_type": "display_data"
    }
   ],
   "source": [
    "## Which gender was most effected\n",
    "\n",
    "g=emp[\"Gender\"].value_counts()\n",
    "print(g)\n",
    "color=sns.color_palette(palette='PRGn')\n",
    "plt.pie(g,labels=g.index,autopct=\"%0.01f%%\",textprops={\"fontsize\":10},wedgeprops={'width': 0.6},explode=[0,0,0.5]);\n"
   ]
  },
  {
   "cell_type": "code",
   "execution_count": 21,
   "id": "cc37a9b8-2724-48d4-9d7d-77b22c738ded",
   "metadata": {},
   "outputs": [
    {
     "name": "stdout",
     "output_type": "stream",
     "text": [
      "No     924\n",
      "Yes    124\n",
      "Name: self_employed, dtype: int64\n",
      "\n",
      "\n",
      "Mostly Employee were working in offices and only 11% were self employed\n"
     ]
    },
    {
     "data": {
      "image/png": "[encoded data removed]",
      "text/plain": [
       "<Figure size 432x288 with 1 Axes>"
      ]
     },
     "metadata": {},
     "output_type": "display_data"
    }
   ],
   "source": [
    "# How many employees were self employed \n",
    "\n",
    "s=emp[\"self_employed\"].value_counts()\n",
    "print(s)\n",
    "color=sns.color_palette(palette='PRGn')\n",
    "plt.pie(s,labels=s.index,autopct=\"%0.01f%%\",textprops={\"fontsize\":15},wedgeprops={'width': 0.6},explode=[0,0.3]);\n",
    "print('\\n' )\n",
    "print('Mostly Employee were working in offices and only 11% were self employed')"
   ]
  },
  {
   "cell_type": "code",
   "execution_count": 22,
   "id": "4d5dc4f7-3dc7-4863-8d6c-bff333a71f26",
   "metadata": {},
   "outputs": [
    {
     "name": "stdout",
     "output_type": "stream",
     "text": [
      "No     643\n",
      "Yes    405\n",
      "Name: family_history, dtype: int64\n",
      "\n",
      "\n",
      "61% Employee have no family history of mental illness before\n"
     ]
    },
    {
     "data": {
      "image/png": "[encoded data removed]",
      "text/plain": [
       "<Figure size 432x288 with 1 Axes>"
      ]
     },
     "metadata": {},
     "output_type": "display_data"
    }
   ],
   "source": [
    "# how many employee have a family history of mental illness\n",
    "\n",
    "f=emp[\"family_history\"].value_counts()\n",
    "print(f)\n",
    "color=sns.color_palette(palette='PRGn')\n",
    "plt.pie(f,labels=f.index,autopct=\"%0.01f%%\",textprops={\"fontsize\":15},wedgeprops={'width': 0.6},explode=[0,0]);\n",
    "print('\\n' )\n",
    "print('61% Employee have no family history of mental illness before')"
   ]
  },
  {
   "cell_type": "code",
   "execution_count": 23,
   "id": "c4f82d23-1590-4f3f-9b72-80519f6a41d8",
   "metadata": {},
   "outputs": [
    {
     "name": "stdout",
     "output_type": "stream",
     "text": [
      "No     536\n",
      "Yes    512\n",
      "Name: treatment, dtype: int64\n",
      "\n",
      "\n",
      "51% of the employee were undergoing treatment for mental illness which is a huge number\n"
     ]
    },
    {
     "data": {
      "image/png": "[encoded data removed]",
      "text/plain": [
       "<Figure size 432x288 with 1 Axes>"
      ]
     },
     "metadata": {},
     "output_type": "display_data"
    }
   ],
   "source": [
    "## How many employee were undergoing any treatment for mental illness\n",
    "\n",
    "m=emp[\"treatment\"].value_counts()\n",
    "print(m)\n",
    "color=sns.color_palette(palette='PRGn')\n",
    "plt.pie(m,labels=m.index,autopct=\"%0.0f%%\",textprops={\"fontsize\":15},wedgeprops={'width': 0.6},explode=[0,0]);\n",
    "print('\\n' )\n",
    "print('51% of the employee were undergoing treatment for mental illness which is a huge number')"
   ]
  },
  {
   "cell_type": "code",
   "execution_count": 24,
   "id": "5656914d-c260-46a7-87e0-cb5d127d5d4c",
   "metadata": {},
   "outputs": [
    {
     "name": "stdout",
     "output_type": "stream",
     "text": [
      "Sometimes    386\n",
      "Unknown      236\n",
      "Never        178\n",
      "Rarely       144\n",
      "Often        104\n",
      "Name: work_interfere, dtype: int64\n",
      "\n",
      "\n",
      "most of the employee says in their mental health condition,they feel that it interferes with their work\n"
     ]
    },
    {
     "data": {
      "image/png": "[encoded data removed]",
      "text/plain": [
       "<Figure size 432x288 with 1 Axes>"
      ]
     },
     "metadata": {
      "needs_background": "light"
     },
     "output_type": "display_data"
    }
   ],
   "source": [
    "# If employee have a mental health condition, do they feel that it interferes with their work\n",
    "\n",
    "print(emp[\"work_interfere\"].value_counts())\n",
    "sns.countplot(x=\"work_interfere\",data=emp,edgecolor=\"black\",palette='PRGn');\n",
    "print('\\n' )\n",
    "print('most of the employee says in their mental health condition,they feel that it interferes with their work')"
   ]
  },
  {
   "cell_type": "code",
   "execution_count": 25,
   "id": "f5146b80-345c-4e00-8652-04d347902f06",
   "metadata": {},
   "outputs": [
    {
     "name": "stdout",
     "output_type": "stream",
     "text": [
      "Yes    870\n",
      "No     178\n",
      "Name: tech_company, dtype: int64\n",
      "\n",
      "\n",
      "most of the Employees were from the Tech Company\n"
     ]
    },
    {
     "data": {
      "image/png": "[encoded data removed]",
      "text/plain": [
       "<Figure size 432x288 with 1 Axes>"
      ]
     },
     "metadata": {},
     "output_type": "display_data"
    }
   ],
   "source": [
    "## How many employee were from the tech company \n",
    "\n",
    "tech=emp[\"tech_company\"].value_counts()\n",
    "print(tech)\n",
    "color=sns.color_palette(palette='PRGn')\n",
    "plt.pie(tech,labels=tech.index,autopct=\"%0.0f%%\",textprops={\"fontsize\":15},wedgeprops={'width': 0.6},explode=[0,0]);\n",
    "print('\\n' )\n",
    "print('most of the Employees were from the Tech Company')"
   ]
  },
  {
   "cell_type": "code",
   "execution_count": 26,
   "id": "c9b48851-14b0-43ca-9d53-38bc5ed0d660",
   "metadata": {},
   "outputs": [
    {
     "name": "stdout",
     "output_type": "stream",
     "text": [
      "Yes           400\n",
      "Don't know    342\n",
      "No            306\n",
      "Name: benefits, dtype: int64\n",
      "\n",
      "\n",
      "38% of the employee Get mental health benefits were as 33% don't know about it and 29% didn't get any benefits\n"
     ]
    },
    {
     "data": {
      "image/png": "[encoded data removed]",
      "text/plain": [
       "<Figure size 432x288 with 1 Axes>"
      ]
     },
     "metadata": {},
     "output_type": "display_data"
    }
   ],
   "source": [
    "## Any employee who gets mental health benefits\n",
    "\n",
    "b=emp[\"benefits\"].value_counts()\n",
    "print(b)\n",
    "color=sns.color_palette(palette='PRGn')\n",
    "plt.pie(b,labels=b.index,autopct=\"%0.0f%%\",textprops={\"fontsize\":15},wedgeprops={'width': 0.6},explode=[0,0,0]);\n",
    "print('\\n' )\n",
    "print(\"38% of the employee Get mental health benefits were as 33% don't know about it and 29% didn't get any benefits\")"
   ]
  },
  {
   "cell_type": "code",
   "execution_count": 27,
   "id": "1573aa05-38de-4b0a-b8ea-ba09b84ca273",
   "metadata": {},
   "outputs": [
    {
     "name": "stdout",
     "output_type": "stream",
     "text": [
      "No          422\n",
      "Yes         363\n",
      "Not sure    263\n",
      "Name: care_options, dtype: int64\n",
      "\n",
      "\n",
      "250+ employee Not Sure about any care options being provided by their employer where as 350+ employee knows about that\n"
     ]
    },
    {
     "data": {
      "image/png": "[encoded data removed]",
      "text/plain": [
       "<Figure size 648x432 with 1 Axes>"
      ]
     },
     "metadata": {
      "needs_background": "light"
     },
     "output_type": "display_data"
    }
   ],
   "source": [
    "# How many employee know the options for mental health care their employer provides?\n",
    "\n",
    "print(emp[\"care_options\"].value_counts())\n",
    "plt.figure(figsize=(9,6))\n",
    "sns.countplot(x=\"care_options\",data=emp,edgecolor=\"black\",palette='PRGn');\n",
    "print('\\n' )\n",
    "print(\"250+ employee Not Sure about any care options being provided by their employer where as 350+ employee knows about that\")"
   ]
  },
  {
   "cell_type": "code",
   "execution_count": 28,
   "id": "56bfef69-f997-42ab-a65e-ad975382a651",
   "metadata": {},
   "outputs": [
    {
     "name": "stdout",
     "output_type": "stream",
     "text": [
      "Don't know            466\n",
      "Somewhat easy         218\n",
      "Very easy             176\n",
      "Somewhat difficult    107\n",
      "Very difficult         81\n",
      "Name: leave, dtype: int64\n",
      "\n",
      "\n",
      "Mostly Employee don't Know if it is easy to take medical leave for a mental health condition\n"
     ]
    },
    {
     "data": {
      "image/png": "[encoded data removed]",
      "text/plain": [
       "<Figure size 648x432 with 1 Axes>"
      ]
     },
     "metadata": {
      "needs_background": "light"
     },
     "output_type": "display_data"
    }
   ],
   "source": [
    "# How easy is it to take medical leave for a mental health condition\n",
    "\n",
    "print(emp[\"leave\"].value_counts())\n",
    "plt.figure(figsize=(9,6))\n",
    "sns.countplot(x=\"leave\",data=emp,edgecolor=\"black\",palette='PRGn');\n",
    "print('\\n' )\n",
    "print(\"Mostly Employee don't Know if it is easy to take medical leave for a mental health condition\")"
   ]
  },
  {
   "cell_type": "code",
   "execution_count": 118,
   "id": "8fee2207-fb80-48f3-9a68-cdec41a9a636",
   "metadata": {},
   "outputs": [
    {
     "data": {
      "text/plain": [
       "<AxesSubplot:>"
      ]
     },
     "execution_count": 118,
     "metadata": {},
     "output_type": "execute_result"
    },
    {
     "data": {
      "image/png": "[encoded data removed]",
      "text/plain": [
       "<Figure size 1080x720 with 2 Axes>"
      ]
     },
     "metadata": {
      "needs_background": "light"
     },
     "output_type": "display_data"
    }
   ],
   "source": [
    "plt.figure(figsize = (15,10))\n",
    "sns.heatmap(emp.corr().round(2), annot = True)"
   ]
  },
  {
   "cell_type": "code",
   "execution_count": null,
   "id": "2825da01-3a69-439d-a1e6-58b7a3db7a2f",
   "metadata": {},
   "outputs": [],
   "source": []
  },
  {
   "cell_type": "code",
   "execution_count": null,
   "id": "3b5b778a-a10d-4bb3-9904-c5865023b293",
   "metadata": {},
   "outputs": [],
   "source": []
  },
  {
   "cell_type": "code",
   "execution_count": 30,
   "id": "dbfaea51-dfd0-4ddb-a36c-d032cd61d7b8",
   "metadata": {},
   "outputs": [],
   "source": [
    "# converting non-numeric to numeric columns based on ordinal rank\n",
    "\n",
    "emp.Gender.replace({\"Female\":0,\"Male\":1,\"Other\":2}, inplace = True)\n",
    "emp.self_employed.replace({\"No\":0,\"Yes\":1}, inplace = True)\n",
    "emp.family_history.replace({\"No\":0,\"Yes\":1}, inplace = True)\n",
    "emp.treatment.replace({\"No\":0,\"Yes\":1}, inplace = True)\n",
    "emp.remote_work.replace({\"No\":0,\"Yes\":1}, inplace = True)\n",
    "emp.tech_company.replace({\"No\":0,\"Yes\":1}, inplace = True)\n",
    "emp.benefits.replace({\"No\":0,\"Yes\":1,\"Don't know\" :2}, inplace = True)\n",
    "emp.care_options.replace({\"No\":0,\"Yes\":1,\"Not sure\" :2}, inplace = True)\n",
    "emp.wellness_program.replace({\"No\":0,\"Yes\":1,\"Don't know\" :2}, inplace = True)\n",
    "emp.seek_help.replace({\"No\":0,\"Yes\":1,\"Don't know\" :2}, inplace = True)\n",
    "emp.anonymity.replace({\"No\":0,\"Yes\":1,\"Don't know\" :2}, inplace = True)\n",
    "emp.leave.replace({\"Very easy\":0,\"Somewhat easy\":1,\"Somewhat difficult\" :2, \"Very difficult\":3, \"Don't know\":4}, inplace = True)\n",
    "emp.mental_health_consequence.replace({\"No\":0,\"Yes\":1,\"Maybe\" :2}, inplace = True)\n",
    "emp.phys_health_consequence.replace({\"No\":0,\"Yes\":1,\"Maybe\" :2}, inplace = True)\n",
    "emp.coworkers.replace({\"No\":0,\"Yes\":1,\"Some of them\" :2}, inplace = True)\n",
    "emp.supervisor.replace({\"No\":0,\"Yes\":1,\"Some of them\" :2}, inplace = True)\n",
    "emp.mental_health_interview.replace({\"No\":0,\"Yes\":1,\"Maybe\" :2}, inplace = True)\n",
    "emp.phys_health_interview.replace({\"No\":0,\"Yes\":1,\"Maybe\" :2}, inplace = True)\n",
    "emp.mental_vs_physical.replace({\"No\":0,\"Yes\":1,\"Don't know\" :2}, inplace = True)\n",
    "emp.obs_consequence.replace({\"No\":0,\"Yes\":1}, inplace = True)"
   ]
  },
  {
   "cell_type": "code",
   "execution_count": 31,
   "id": "4f622372-c2f9-4de6-abc0-a260ce63ff3a",
   "metadata": {},
   "outputs": [],
   "source": [
    "# having more than 50% null values and timestamp has no play important roll so i delete it.\n",
    "\n",
    "emp= emp.drop(['Country','state','comments','Timestamp'], axis = 1)"
   ]
  },
  {
   "cell_type": "code",
   "execution_count": 32,
   "id": "df6455c5-2834-4d2e-a6b8-4c5812c1edcd",
   "metadata": {},
   "outputs": [
    {
     "data": {
      "text/plain": [
       "Index(['work_interfere', 'no_employees'], dtype='object')"
      ]
     },
     "execution_count": 32,
     "metadata": {},
     "output_type": "execute_result"
    }
   ],
   "source": [
    "emp.columns[emp.dtypes == 'object']"
   ]
  },
  {
   "cell_type": "code",
   "execution_count": 33,
   "id": "c19b62cf-05a3-4113-85ec-6b4f761fba9b",
   "metadata": {},
   "outputs": [],
   "source": [
    "#emp.care_options.value_counts()"
   ]
  },
  {
   "cell_type": "code",
   "execution_count": 34,
   "id": "70394708-4877-41ed-98d3-d52852d8120f",
   "metadata": {},
   "outputs": [],
   "source": [
    "le  = LabelEncoder()\n",
    "\n",
    "emp[emp.select_dtypes(include = 'object').columns] = emp[emp.select_dtypes(include = 'object').columns].apply(le.fit_transform)"
   ]
  },
  {
   "cell_type": "code",
   "execution_count": 35,
   "id": "622cd02f-3286-4e30-8640-de290ce22ff0",
   "metadata": {},
   "outputs": [
    {
     "data": {
      "text/plain": [
       "Index([], dtype='object')"
      ]
     },
     "execution_count": 35,
     "metadata": {},
     "output_type": "execute_result"
    }
   ],
   "source": [
    "# cheking all object columns\n",
    "\n",
    "emp.columns[emp.dtypes == 'object']"
   ]
  },
  {
   "cell_type": "code",
   "execution_count": 36,
   "id": "0f6b7b70-030d-48b9-a25a-a77cd55b6891",
   "metadata": {},
   "outputs": [
    {
     "data": {
      "text/plain": [
       "Series([], dtype: int64)"
      ]
     },
     "execution_count": 36,
     "metadata": {},
     "output_type": "execute_result"
    }
   ],
   "source": [
    "# cheking the null values in dataset\n",
    "\n",
    "emp.isnull().sum()[emp.isnull().sum() >0]"
   ]
  },
  {
   "cell_type": "code",
   "execution_count": null,
   "id": "414c5651-3a1e-4399-810c-600ced00ee15",
   "metadata": {},
   "outputs": [],
   "source": []
  },
  {
   "cell_type": "code",
   "execution_count": null,
   "id": "a5f9958c-0521-4c3f-9f0e-218d33d03386",
   "metadata": {},
   "outputs": [],
   "source": []
  },
  {
   "cell_type": "markdown",
   "id": "fa8e8b9e-a911-4d52-bf86-cd710c4b801a",
   "metadata": {},
   "source": [
    "# Model Building"
   ]
  },
  {
   "cell_type": "code",
   "execution_count": 37,
   "id": "9c7ecefc-2145-4c98-b7e8-d431523e3951",
   "metadata": {},
   "outputs": [],
   "source": [
    "# Split the training dataset into features and target variable \n",
    "\n",
    "emp_X = emp.drop(['treatment'], axis = 1)\n",
    "emp_Y = emp.treatment"
   ]
  },
  {
   "cell_type": "markdown",
   "id": "99d28896-91b6-4daa-9483-29d17f19daa7",
   "metadata": {},
   "source": [
    "# Standardization on train"
   ]
  },
  {
   "cell_type": "code",
   "execution_count": 107,
   "id": "b867b9d4-75ba-429e-91ee-1c960ed5906f",
   "metadata": {},
   "outputs": [],
   "source": [
    "scaler = StandardScaler()\n",
    "\n",
    "emp_X = pd.DataFrame(scaler.fit_transform(emp_X), columns=emp_X.columns)"
   ]
  },
  {
   "cell_type": "code",
   "execution_count": 108,
   "id": "d7303737-fb82-4e05-be87-287ce8cf1f3a",
   "metadata": {},
   "outputs": [],
   "source": [
    "emp_train_X,emp_test_X, emp_train_Y,emp_test_Y = train_test_split(emp_X, emp_Y,  test_size = 0.2)"
   ]
  },
  {
   "cell_type": "code",
   "execution_count": 109,
   "id": "f2d1df81-cbd2-4a1e-acd4-d455b7b26bd2",
   "metadata": {},
   "outputs": [
    {
     "name": "stdout",
     "output_type": "stream",
     "text": [
      "(838, 22) (838,) (210, 22) (210,)\n"
     ]
    }
   ],
   "source": [
    "print(emp_train_X.shape , emp_train_Y.shape , emp_test_X.shape , emp_test_Y.shape)"
   ]
  },
  {
   "cell_type": "markdown",
   "id": "281e3aeb-8493-4018-8719-7cdefe60bad2",
   "metadata": {},
   "source": [
    "#  Evaluate the performance of the model \n"
   ]
  },
  {
   "cell_type": "markdown",
   "id": "31c0ba6a-b654-44bf-988f-d83c64c3af45",
   "metadata": {},
   "source": [
    "# Logistic Regression"
   ]
  },
  {
   "cell_type": "code",
   "execution_count": 92,
   "id": "6b45195d-132a-48d4-8ac8-48c7a14103af",
   "metadata": {},
   "outputs": [
    {
     "name": "stdout",
     "output_type": "stream",
     "text": [
      "confusion_matrix : \n",
      " [[85 24]\n",
      " [32 69]]\n",
      "LogisticRegression accuracy: 73.33333333333333\n",
      "LogisticRegression f1_score: 71.13402061855672\n"
     ]
    },
    {
     "name": "stderr",
     "output_type": "stream",
     "text": [
      "C:\\Users\\betba\\anaconda3\\lib\\site-packages\\sklearn\\linear_model\\_logistic.py:814: ConvergenceWarning: lbfgs failed to converge (status=1):\n",
      "STOP: TOTAL NO. of ITERATIONS REACHED LIMIT.\n",
      "\n",
      "Increase the number of iterations (max_iter) or scale the data as shown in:\n",
      "    https://scikit-learn.org/stable/modules/preprocessing.html\n",
      "Please also refer to the documentation for alternative solver options:\n",
      "    https://scikit-learn.org/stable/modules/linear_model.html#logistic-regression\n",
      "  n_iter_i = _check_optimize_result(\n"
     ]
    }
   ],
   "source": [
    "logreg = LogisticRegression()\n",
    "\n",
    "logreg.fit(emp_train_X, emp_train_Y)\n",
    "emp_test_pred = logreg.predict(emp_test_X)\n",
    "    \n",
    "tab = confusion_matrix(emp_test_Y, emp_test_pred)    \n",
    "    \n",
    "test_accuracy_logreg = accuracy_score(emp_test_Y, emp_test_pred)\n",
    "test_f1_score_logreg = f1_score (emp_test_Y, emp_test_pred)\n",
    "\n",
    "\n",
    "print(\"confusion_matrix :\", '\\n', tab )\n",
    "print(\"LogisticRegression accuracy:\",test_accuracy_logreg*100)\n",
    "print(\"LogisticRegression f1_score:\",test_f1_score_logreg*100)  "
   ]
  },
  {
   "cell_type": "markdown",
   "id": "26851b88-a67d-47af-9e5f-be07731ecf68",
   "metadata": {},
   "source": [
    "# Decision tree"
   ]
  },
  {
   "cell_type": "code",
   "execution_count": 86,
   "id": "6a43fd28-c87f-44aa-afd2-01ff8f6979e0",
   "metadata": {},
   "outputs": [
    {
     "name": "stdout",
     "output_type": "stream",
     "text": [
      "confusion_matrix : \n",
      " [[86 23]\n",
      " [33 68]]\n",
      "DecisionTreeClassifier accuracy: 73.33333333333333\n",
      "DecisionTreeClassifier f1_score: 70.83333333333334\n"
     ]
    }
   ],
   "source": [
    "dt = DecisionTreeClassifier()\n",
    "\n",
    "dt.fit(emp_train_X, emp_train_Y)\n",
    "emp_test_pred = dt.predict(emp_test_X)\n",
    "    \n",
    "tab1 = confusion_matrix(emp_test_Y, emp_test_pred)    \n",
    "    \n",
    "test_accuracy_dt = accuracy_score(emp_test_Y, emp_test_pred)\n",
    "test_f1_score_dt = f1_score (emp_test_Y, emp_test_pred)\n",
    "\n",
    "\n",
    "print(\"confusion_matrix :\", '\\n', tab1 )\n",
    "print(\"DecisionTreeClassifier accuracy:\",test_accuracy_dt*100)\n",
    "print(\"DecisionTreeClassifier f1_score:\",test_f1_score_dt*100)  "
   ]
  },
  {
   "cell_type": "markdown",
   "id": "ffd1bb0e-5055-4c57-9999-4228a2af2e2a",
   "metadata": {},
   "source": [
    "# Random Forest"
   ]
  },
  {
   "cell_type": "code",
   "execution_count": 87,
   "id": "59c494a2-18f0-4e2a-b565-b7c8bd577eb4",
   "metadata": {},
   "outputs": [
    {
     "name": "stdout",
     "output_type": "stream",
     "text": [
      "confusion_matrix : \n",
      " [[89 20]\n",
      " [20 81]]\n",
      "RandomForestClassifier accuracy: 80.95238095238095\n",
      "RandomForestClassifier f1_score: 80.19801980198021\n"
     ]
    }
   ],
   "source": [
    "rfc = RandomForestClassifier()\n",
    "\n",
    "rfc.fit(emp_train_X, emp_train_Y)\n",
    "emp_test_pred = rfc.predict(emp_test_X)\n",
    "    \n",
    "tab2 = confusion_matrix(emp_test_Y, emp_test_pred)    \n",
    "    \n",
    "test_accuracy_rfc = accuracy_score(emp_test_Y, emp_test_pred)\n",
    "test_f1_score_rfc = f1_score (emp_test_Y, emp_test_pred)\n",
    "\n",
    "\n",
    "print(\"confusion_matrix :\", '\\n', tab2 )\n",
    "print(\"RandomForestClassifier accuracy:\",test_accuracy_rfc*100)\n",
    "print(\"RandomForestClassifier f1_score:\",test_f1_score_rfc*100)  "
   ]
  },
  {
   "cell_type": "markdown",
   "id": "63a84c43-b36c-4df3-ae98-c5ecffd40934",
   "metadata": {},
   "source": [
    "# K-Neighbors (KNN)"
   ]
  },
  {
   "cell_type": "code",
   "execution_count": 88,
   "id": "15d36c93-7415-48eb-ad33-5066e998186d",
   "metadata": {},
   "outputs": [
    {
     "name": "stdout",
     "output_type": "stream",
     "text": [
      "confusion_matrix : \n",
      " [[65 44]\n",
      " [38 63]]\n",
      "KNeighborsClassifier accuracy: 60.952380952380956\n",
      "KNeighborsClassifier f1_score: 60.57692307692307\n"
     ]
    }
   ],
   "source": [
    "knn = KNeighborsClassifier()\n",
    "\n",
    "knn.fit(emp_train_X, emp_train_Y)\n",
    "emp_test_pred = knn.predict(emp_test_X)\n",
    "    \n",
    "tab3 = confusion_matrix(emp_test_Y, emp_test_pred)    \n",
    "    \n",
    "test_accuracy_knn = accuracy_score(emp_test_Y, emp_test_pred)\n",
    "test_f1_score_knn = f1_score (emp_test_Y, emp_test_pred)\n",
    "\n",
    "\n",
    "print(\"confusion_matrix :\", '\\n', tab3 )\n",
    "print(\"KNeighborsClassifier accuracy:\",test_accuracy_knn*100)\n",
    "print(\"KNeighborsClassifier f1_score:\",test_f1_score_knn*100)  "
   ]
  },
  {
   "cell_type": "markdown",
   "id": "959a4017-407f-4513-9f6f-fae65c944bdc",
   "metadata": {},
   "source": [
    "# Support Vector Machine"
   ]
  },
  {
   "cell_type": "code",
   "execution_count": 110,
   "id": "3a6e1ead-135d-4e67-91a4-ed358753a437",
   "metadata": {},
   "outputs": [
    {
     "name": "stdout",
     "output_type": "stream",
     "text": [
      "confusion_matrix : \n",
      " [[80 27]\n",
      " [25 78]]\n",
      "Support Vector Machine accuracy: 75.23809523809524\n",
      "Support Vector Machine f1_score: 74.99999999999999\n"
     ]
    }
   ],
   "source": [
    "svm = SVC()\n",
    "\n",
    "svm.fit(emp_train_X, emp_train_Y)\n",
    "emp_test_pred = svm.predict(emp_test_X)\n",
    "    \n",
    "tab4 = confusion_matrix(emp_test_Y, emp_test_pred)    \n",
    "    \n",
    "test_accuracy_svm = accuracy_score(emp_test_Y, emp_test_pred)\n",
    "test_f1_score_svm = f1_score (emp_test_Y, emp_test_pred)\n",
    "\n",
    "\n",
    "print(\"confusion_matrix :\", '\\n', tab4 )\n",
    "print(\"Support Vector Machine accuracy:\",test_accuracy_svm*100)\n",
    "print(\"Support Vector Machine f1_score:\",test_f1_score_svm*100)  "
   ]
  },
  {
   "cell_type": "markdown",
   "id": "5c6d3d70-308d-4634-abd1-5dd959896b3d",
   "metadata": {},
   "source": [
    "# AdaBoost"
   ]
  },
  {
   "cell_type": "code",
   "execution_count": 90,
   "id": "8d77f616-b0c2-45de-9e66-9a4654a304e2",
   "metadata": {},
   "outputs": [
    {
     "name": "stdout",
     "output_type": "stream",
     "text": [
      "confusion_matrix : \n",
      " [[87 22]\n",
      " [21 80]]\n",
      "AdaBoost accuracy: 79.52380952380952\n",
      "AdaBoost f1_score: 78.81773399014777\n"
     ]
    }
   ],
   "source": [
    "adb = AdaBoostClassifier()\n",
    "\n",
    "adb.fit(emp_train_X, emp_train_Y)\n",
    "emp_test_pred = adb.predict(emp_test_X)\n",
    "    \n",
    "tab5 = confusion_matrix(emp_test_Y, emp_test_pred)    \n",
    "    \n",
    "test_accuracy_adb = accuracy_score(emp_test_Y, emp_test_pred)\n",
    "test_f1_score_adb = f1_score (emp_test_Y, emp_test_pred)\n",
    "\n",
    "\n",
    "print(\"confusion_matrix :\", '\\n', tab5 )\n",
    "print(\"AdaBoost accuracy:\",test_accuracy_adb*100)\n",
    "print(\"AdaBoost f1_score:\",test_f1_score_adb*100)  "
   ]
  },
  {
   "cell_type": "code",
   "execution_count": null,
   "id": "0353d988-c305-4c22-aa9f-5e3c72ab30ce",
   "metadata": {},
   "outputs": [],
   "source": []
  },
  {
   "cell_type": "markdown",
   "id": "6de88d88-d496-4be3-ac94-678efe9717be",
   "metadata": {},
   "source": [
    "# Feature Selection & Tunning"
   ]
  },
  {
   "cell_type": "markdown",
   "id": "b31d2d9d-27e6-4e54-8a66-ad468eded3da",
   "metadata": {},
   "source": [
    "# feature Selection"
   ]
  },
  {
   "cell_type": "code",
   "execution_count": 47,
   "id": "b75cd74a-9423-4d59-95f8-0de300be0bca",
   "metadata": {},
   "outputs": [],
   "source": [
    "# Split the training dataset into features and target variable \n",
    "\n",
    "emp_X = emp.drop(['treatment'], axis = 1)\n",
    "emp_Y = emp.treatment"
   ]
  },
  {
   "cell_type": "code",
   "execution_count": 48,
   "id": "a55def78-a4c8-49d3-9c69-4345cbd96c97",
   "metadata": {
    "tags": []
   },
   "outputs": [
    {
     "data": {
      "text/html": [
       "<div>\n",
       "<style scoped>\n",
       "    .dataframe tbody tr th:only-of-type {\n",
       "        vertical-align: middle;\n",
       "    }\n",
       "\n",
       "    .dataframe tbody tr th {\n",
       "        vertical-align: top;\n",
       "    }\n",
       "\n",
       "    .dataframe thead th {\n",
       "        text-align: right;\n",
       "    }\n",
       "</style>\n",
       "<table border=\"1\" class=\"dataframe\">\n",
       "  <thead>\n",
       "    <tr style=\"text-align: right;\">\n",
       "      <th></th>\n",
       "      <th>features</th>\n",
       "      <th>Score</th>\n",
       "    </tr>\n",
       "  </thead>\n",
       "  <tbody>\n",
       "    <tr>\n",
       "      <th>4</th>\n",
       "      <td>work_interfere</td>\n",
       "      <td>28.338826</td>\n",
       "    </tr>\n",
       "    <tr>\n",
       "      <th>0</th>\n",
       "      <td>Age</td>\n",
       "      <td>9.474452</td>\n",
       "    </tr>\n",
       "    <tr>\n",
       "      <th>3</th>\n",
       "      <td>family_history</td>\n",
       "      <td>8.867422</td>\n",
       "    </tr>\n",
       "    <tr>\n",
       "      <th>5</th>\n",
       "      <td>no_employees</td>\n",
       "      <td>5.108721</td>\n",
       "    </tr>\n",
       "    <tr>\n",
       "      <th>13</th>\n",
       "      <td>leave</td>\n",
       "      <td>4.170337</td>\n",
       "    </tr>\n",
       "    <tr>\n",
       "      <th>8</th>\n",
       "      <td>benefits</td>\n",
       "      <td>4.129698</td>\n",
       "    </tr>\n",
       "    <tr>\n",
       "      <th>9</th>\n",
       "      <td>care_options</td>\n",
       "      <td>4.002863</td>\n",
       "    </tr>\n",
       "    <tr>\n",
       "      <th>14</th>\n",
       "      <td>mental_health_consequence</td>\n",
       "      <td>3.455526</td>\n",
       "    </tr>\n",
       "    <tr>\n",
       "      <th>17</th>\n",
       "      <td>supervisor</td>\n",
       "      <td>3.189183</td>\n",
       "    </tr>\n",
       "    <tr>\n",
       "      <th>19</th>\n",
       "      <td>phys_health_interview</td>\n",
       "      <td>3.132107</td>\n",
       "    </tr>\n",
       "    <tr>\n",
       "      <th>20</th>\n",
       "      <td>mental_vs_physical</td>\n",
       "      <td>2.952061</td>\n",
       "    </tr>\n",
       "    <tr>\n",
       "      <th>16</th>\n",
       "      <td>coworkers</td>\n",
       "      <td>2.929146</td>\n",
       "    </tr>\n",
       "    <tr>\n",
       "      <th>1</th>\n",
       "      <td>Gender</td>\n",
       "      <td>2.851942</td>\n",
       "    </tr>\n",
       "    <tr>\n",
       "      <th>11</th>\n",
       "      <td>seek_help</td>\n",
       "      <td>2.542037</td>\n",
       "    </tr>\n",
       "    <tr>\n",
       "      <th>10</th>\n",
       "      <td>wellness_program</td>\n",
       "      <td>2.318781</td>\n",
       "    </tr>\n",
       "    <tr>\n",
       "      <th>12</th>\n",
       "      <td>anonymity</td>\n",
       "      <td>2.299732</td>\n",
       "    </tr>\n",
       "    <tr>\n",
       "      <th>21</th>\n",
       "      <td>obs_consequence</td>\n",
       "      <td>1.959672</td>\n",
       "    </tr>\n",
       "    <tr>\n",
       "      <th>15</th>\n",
       "      <td>phys_health_consequence</td>\n",
       "      <td>1.936033</td>\n",
       "    </tr>\n",
       "    <tr>\n",
       "      <th>6</th>\n",
       "      <td>remote_work</td>\n",
       "      <td>1.889136</td>\n",
       "    </tr>\n",
       "    <tr>\n",
       "      <th>18</th>\n",
       "      <td>mental_health_interview</td>\n",
       "      <td>1.802704</td>\n",
       "    </tr>\n",
       "    <tr>\n",
       "      <th>7</th>\n",
       "      <td>tech_company</td>\n",
       "      <td>1.372363</td>\n",
       "    </tr>\n",
       "    <tr>\n",
       "      <th>2</th>\n",
       "      <td>self_employed</td>\n",
       "      <td>1.277258</td>\n",
       "    </tr>\n",
       "  </tbody>\n",
       "</table>\n",
       "</div>"
      ],
      "text/plain": [
       "                     features      Score\n",
       "4              work_interfere  28.338826\n",
       "0                         Age   9.474452\n",
       "3              family_history   8.867422\n",
       "5                no_employees   5.108721\n",
       "13                      leave   4.170337\n",
       "8                    benefits   4.129698\n",
       "9                care_options   4.002863\n",
       "14  mental_health_consequence   3.455526\n",
       "17                 supervisor   3.189183\n",
       "19      phys_health_interview   3.132107\n",
       "20         mental_vs_physical   2.952061\n",
       "16                  coworkers   2.929146\n",
       "1                      Gender   2.851942\n",
       "11                  seek_help   2.542037\n",
       "10           wellness_program   2.318781\n",
       "12                  anonymity   2.299732\n",
       "21            obs_consequence   1.959672\n",
       "15    phys_health_consequence   1.936033\n",
       "6                 remote_work   1.889136\n",
       "18    mental_health_interview   1.802704\n",
       "7                tech_company   1.372363\n",
       "2               self_employed   1.277258"
      ]
     },
     "execution_count": 48,
     "metadata": {},
     "output_type": "execute_result"
    }
   ],
   "source": [
    "rfc = RandomForestClassifier()\n",
    "\n",
    "rfc.fit(emp_X, emp_Y)\n",
    "\n",
    "\n",
    "feature_imp_rfc = pd.DataFrame()\n",
    "feature_imp_rfc['features'] = emp_X.columns\n",
    "feature_imp_rfc['Score'] = rfc.feature_importances_*100\n",
    "feature_imp_rfc.sort_values('Score', ascending=False)"
   ]
  },
  {
   "cell_type": "code",
   "execution_count": 49,
   "id": "8c84828a-8f4f-4189-bc01-720208629d63",
   "metadata": {},
   "outputs": [],
   "source": [
    "# after feature selection deleted some feature based on RF\n",
    "\n",
    "emp= emp.drop(['self_employed','tech_company','mental_health_interview','remote_work','phys_health_consequence',\n",
    "                            'obs_consequence','anonymity','wellness_program'], axis = 1)"
   ]
  },
  {
   "cell_type": "code",
   "execution_count": null,
   "id": "04ebb97e-fb53-4804-adb8-83fbb7fc06ef",
   "metadata": {},
   "outputs": [],
   "source": []
  },
  {
   "cell_type": "markdown",
   "id": "b93a3ff2-f77a-47c9-923e-82f6b994c011",
   "metadata": {},
   "source": [
    "# Logistic Regression"
   ]
  },
  {
   "cell_type": "code",
   "execution_count": 50,
   "id": "e1f48cb8-f924-423b-b968-20d5a8dd30e8",
   "metadata": {},
   "outputs": [
    {
     "name": "stdout",
     "output_type": "stream",
     "text": [
      "confusion_matrix : \n",
      " [[80 19]\n",
      " [37 74]]\n",
      "LogisticRegression accuracy: 73.33333333333333\n",
      "LogisticRegression f1_score: 72.54901960784312\n"
     ]
    }
   ],
   "source": [
    "logreg = LogisticRegression()\n",
    "\n",
    "logreg.fit(emp_train_X, emp_train_Y)\n",
    "emp_test_pred = logreg.predict(emp_test_X)\n",
    "    \n",
    "tab = confusion_matrix(emp_test_Y, emp_test_pred)    \n",
    "    \n",
    "test_accuracy_logreg1 = accuracy_score(emp_test_Y, emp_test_pred)\n",
    "test_f1_score_logreg1 = f1_score (emp_test_Y, emp_test_pred)\n",
    "\n",
    "\n",
    "print(\"confusion_matrix :\", '\\n', tab )\n",
    "print(\"LogisticRegression accuracy:\",test_accuracy_logreg1*100)\n",
    "print(\"LogisticRegression f1_score:\",test_f1_score_logreg1*100)  "
   ]
  },
  {
   "cell_type": "markdown",
   "id": "b0bf22c3-fc02-4c7a-a924-e55c0b0993bc",
   "metadata": {},
   "source": [
    "# DecisionTree Classifier"
   ]
  },
  {
   "cell_type": "code",
   "execution_count": 51,
   "id": "ed1236d5-8f87-47da-8d41-a187dea32de5",
   "metadata": {},
   "outputs": [
    {
     "name": "stdout",
     "output_type": "stream",
     "text": [
      "confusion_matrix : \n",
      " [[85 14]\n",
      " [16 95]]\n",
      "best_params_ : {'criterion': 'gini', 'max_depth': 5, 'min_samples_leaf': 2, 'min_samples_split': 2}\n",
      "DecisionTreeClassifier accuracy: 85.71428571428571\n",
      "DecisionTreeClassifier f1_score: 86.36363636363636\n"
     ]
    }
   ],
   "source": [
    "dt = DecisionTreeClassifier()\n",
    "\n",
    "search_dict = {\n",
    "    'criterion': ['gini', 'entropy'],\n",
    "    'max_depth': [None, 5, 10],\n",
    "    'min_samples_split': [2, 5, 10],\n",
    "    'min_samples_leaf': [1, 2, 4] }\n",
    "\n",
    "grid = GridSearchCV(dt, param_grid = search_dict)\n",
    "\n",
    "grid.fit(emp_train_X, emp_train_Y)\n",
    "emp_test_pred = grid.predict(emp_test_X)\n",
    "\n",
    "tab1 = confusion_matrix(emp_test_Y, emp_test_pred)\n",
    "\n",
    "test_accuracy_dt1 = accuracy_score(emp_test_Y, emp_test_pred)\n",
    "test_f1_score_dt1 = f1_score (emp_test_Y, emp_test_pred)\n",
    "\n",
    "print(\"confusion_matrix :\", '\\n', tab1 )\n",
    "print(\"best_params_ :\",grid.best_params_  )\n",
    "print(\"DecisionTreeClassifier accuracy:\",test_accuracy_dt1*100)\n",
    "print(\"DecisionTreeClassifier f1_score:\",test_f1_score_dt1*100) "
   ]
  },
  {
   "cell_type": "markdown",
   "id": "90403276-7dc5-4423-901e-b0132f5dd70e",
   "metadata": {},
   "source": [
    "# Random Forest"
   ]
  },
  {
   "cell_type": "code",
   "execution_count": 59,
   "id": "b6d86afd-005a-4fac-a16d-e632300e6fa5",
   "metadata": {},
   "outputs": [
    {
     "name": "stdout",
     "output_type": "stream",
     "text": [
      "confusion_matrix : \n",
      " [[85 14]\n",
      " [13 98]]\n",
      "best_params_ : {'criterion': 'entropy', 'max_depth': 7, 'n_estimators': 116}\n",
      "RandomForestClassifier accuracy: 87.14285714285714\n",
      "RandomForestClassifier f1_score: 87.89237668161437\n"
     ]
    }
   ],
   "source": [
    "rfc = RandomForestClassifier()\n",
    "\n",
    "search_dict = {'criterion' : ['gini', 'entropy'],          # change\n",
    "              'n_estimators': range(100,130),\n",
    "                'max_depth': range(6, 10)\n",
    "              }\n",
    "grid = GridSearchCV(rfc, param_grid = search_dict)\n",
    "\n",
    "grid.fit(emp_train_X, emp_train_Y)\n",
    "emp_test_pred = grid.predict(emp_test_X)\n",
    "\n",
    "tab2 = confusion_matrix(emp_test_Y, emp_test_pred)\n",
    "\n",
    "test_accuracy_rfc1 = accuracy_score(emp_test_Y, emp_test_pred)\n",
    "test_f1_score_rfc1 = f1_score (emp_test_Y, emp_test_pred)\n",
    "\n",
    "print(\"confusion_matrix :\", '\\n', tab2 )\n",
    "print(\"best_params_ :\",grid.best_params_  )\n",
    "print(\"RandomForestClassifier accuracy:\",test_accuracy_rfc1*100)\n",
    "print(\"RandomForestClassifier f1_score:\",test_f1_score_rfc1*100) "
   ]
  },
  {
   "cell_type": "markdown",
   "id": "d302f853-3bed-46ed-b97a-bb92281ed8f0",
   "metadata": {},
   "source": [
    "# KNeighbors Classifier"
   ]
  },
  {
   "cell_type": "code",
   "execution_count": 54,
   "id": "60bb53db-a009-4245-8a3a-f977610cc8ce",
   "metadata": {},
   "outputs": [
    {
     "name": "stdout",
     "output_type": "stream",
     "text": [
      "confusion_matrix : \n",
      " [[79 20]\n",
      " [29 82]]\n",
      "best_params_ : {'n_neighbors': 7, 'p': 1, 'weights': 'distance'}\n",
      "KNeighborsClassifier accuracy: 76.66666666666667\n",
      "KNeighborsClassifier f1_score: 76.99530516431926\n"
     ]
    }
   ],
   "source": [
    "knn = KNeighborsClassifier()\n",
    "\n",
    "search_dict = {\n",
    "    'n_neighbors': [3, 5, 7],\n",
    "    'weights': ['uniform', 'distance'],\n",
    "    'p': [1, 2] }\n",
    "\n",
    "grid = GridSearchCV(knn, param_grid = search_dict)\n",
    "\n",
    "grid.fit(emp_train_X, emp_train_Y)\n",
    "emp_test_pred = grid.predict(emp_test_X)\n",
    "    \n",
    "tab_3 = confusion_matrix(emp_test_Y, emp_test_pred)    \n",
    "    \n",
    "test_accuracy_knn1 = accuracy_score(emp_test_Y, emp_test_pred)\n",
    "test_f1_score_knn1 = f1_score (emp_test_Y, emp_test_pred)\n",
    "\n",
    "\n",
    "print(\"confusion_matrix :\", '\\n', tab_3 )\n",
    "print(\"best_params_ :\",grid.best_params_  )\n",
    "print(\"KNeighborsClassifier accuracy:\",test_accuracy_knn1*100)\n",
    "print(\"KNeighborsClassifier f1_score:\",test_f1_score_knn1*100)  "
   ]
  },
  {
   "cell_type": "markdown",
   "id": "71c20db8-6376-44ba-8415-45bea65fed13",
   "metadata": {},
   "source": [
    "# Support Vector Machine"
   ]
  },
  {
   "cell_type": "code",
   "execution_count": 55,
   "id": "79e8c5c6-3296-4186-8b80-8983d135e971",
   "metadata": {},
   "outputs": [
    {
     "name": "stdout",
     "output_type": "stream",
     "text": [
      "confusion_matrix : \n",
      " [[82 17]\n",
      " [33 78]]\n",
      "best_params_ : {'C': 1, 'degree': 2, 'gamma': 'scale', 'kernel': 'rbf'}\n",
      "Support Vector Machine accuracy: 76.19047619047619\n",
      "Support Vector Machine f1_score: 75.72815533980582\n"
     ]
    }
   ],
   "source": [
    "svm = SVC()\n",
    "\n",
    "search_dict = {'C': [0.1,.2,.3,.4,.5,.6,.7,.8,.9, 1],\n",
    "    'kernel': ['linear', 'rbf', 'poly','sigmoid'],\n",
    "    'degree': [2, 3, 4],\n",
    "    'gamma': ['scale', 'auto']        # change\n",
    "              }\n",
    "grid = GridSearchCV(svm, param_grid = search_dict)\n",
    "\n",
    "grid.fit(emp_train_X, emp_train_Y)\n",
    "emp_test_pred = grid.predict(emp_test_X)\n",
    "    \n",
    "tab_4 = confusion_matrix(emp_test_Y, emp_test_pred)    \n",
    "    \n",
    "test_accuracy_svm1 = accuracy_score(emp_test_Y, emp_test_pred)\n",
    "test_f1_score_svm1 = f1_score (emp_test_Y, emp_test_pred)\n",
    "\n",
    "\n",
    "print(\"confusion_matrix :\", '\\n', tab_4 )\n",
    "print(\"best_params_ :\",grid.best_params_  )\n",
    "print(\"Support Vector Machine accuracy:\",test_accuracy_svm1*100)\n",
    "print(\"Support Vector Machine f1_score:\",test_f1_score_svm1*100) "
   ]
  },
  {
   "cell_type": "markdown",
   "id": "c7606018-b94f-4542-a1c2-ac0a8bc93e06",
   "metadata": {},
   "source": [
    "# AdaBoost"
   ]
  },
  {
   "cell_type": "code",
   "execution_count": 112,
   "id": "c3ac5a32-12d3-4dc4-ade2-8209a382c9aa",
   "metadata": {},
   "outputs": [
    {
     "name": "stdout",
     "output_type": "stream",
     "text": [
      "confusion_matrix : \n",
      " [[84 23]\n",
      " [17 86]]\n",
      "AdaBoost accuracy: 80.95238095238095\n",
      "AdaBoost f1_score: 81.13207547169812\n"
     ]
    }
   ],
   "source": [
    "adb = AdaBoostClassifier(rfc)\n",
    "\n",
    "adb.fit(emp_train_X, emp_train_Y)\n",
    "emp_test_pred = adb.predict(emp_test_X)\n",
    "    \n",
    "tab5 = confusion_matrix(emp_test_Y, emp_test_pred)    \n",
    "    \n",
    "test_accuracy_adb1 = accuracy_score(emp_test_Y, emp_test_pred)\n",
    "test_f1_score_adb1 = f1_score (emp_test_Y, emp_test_pred)\n",
    "\n",
    "\n",
    "print(\"confusion_matrix :\", '\\n', tab5 )\n",
    "print(\"AdaBoost accuracy:\",test_accuracy_adb1*100)\n",
    "print(\"AdaBoost f1_score:\",test_f1_score_adb1*100)  "
   ]
  },
  {
   "cell_type": "code",
   "execution_count": null,
   "id": "a499d4cf-9bac-4391-b2f0-5ad3a7ad0e6b",
   "metadata": {},
   "outputs": [],
   "source": []
  },
  {
   "cell_type": "markdown",
   "id": "e0f44420-43ea-4b8e-a4c0-e397898baf71",
   "metadata": {},
   "source": [
    "# Tabulate the performance metrics of all the above models"
   ]
  },
  {
   "cell_type": "code",
   "execution_count": 115,
   "id": "19b1d677-0411-43ec-b706-8eb458d05c9a",
   "metadata": {},
   "outputs": [
    {
     "data": {
      "text/html": [
       "<div>\n",
       "<style scoped>\n",
       "    .dataframe tbody tr th:only-of-type {\n",
       "        vertical-align: middle;\n",
       "    }\n",
       "\n",
       "    .dataframe tbody tr th {\n",
       "        vertical-align: top;\n",
       "    }\n",
       "\n",
       "    .dataframe thead tr th {\n",
       "        text-align: left;\n",
       "    }\n",
       "</style>\n",
       "<table border=\"1\" class=\"dataframe\">\n",
       "  <thead>\n",
       "    <tr>\n",
       "      <th></th>\n",
       "      <th colspan=\"3\" halign=\"left\">Before Feature Engineering</th>\n",
       "      <th colspan=\"3\" halign=\"left\">After Feature Engineering</th>\n",
       "    </tr>\n",
       "    <tr>\n",
       "      <th></th>\n",
       "      <th>Models</th>\n",
       "      <th>Accuracy</th>\n",
       "      <th>F1 Score</th>\n",
       "      <th>Models</th>\n",
       "      <th>Accuracy</th>\n",
       "      <th>F1 Score</th>\n",
       "    </tr>\n",
       "  </thead>\n",
       "  <tbody>\n",
       "    <tr>\n",
       "      <th>0</th>\n",
       "      <td>Logistic Regression</td>\n",
       "      <td>0.733333</td>\n",
       "      <td>0.711340</td>\n",
       "      <td>Logistic Regression</td>\n",
       "      <td>0.733333</td>\n",
       "      <td>0.725490</td>\n",
       "    </tr>\n",
       "    <tr>\n",
       "      <th>1</th>\n",
       "      <td>Decision tree</td>\n",
       "      <td>0.733333</td>\n",
       "      <td>0.708333</td>\n",
       "      <td>Decision tree</td>\n",
       "      <td>0.857143</td>\n",
       "      <td>0.863636</td>\n",
       "    </tr>\n",
       "    <tr>\n",
       "      <th>2</th>\n",
       "      <td>Random Forest</td>\n",
       "      <td>0.809524</td>\n",
       "      <td>0.801980</td>\n",
       "      <td>Random Forest</td>\n",
       "      <td>0.871429</td>\n",
       "      <td>0.878924</td>\n",
       "    </tr>\n",
       "    <tr>\n",
       "      <th>3</th>\n",
       "      <td>K-Neighbors (KNN)</td>\n",
       "      <td>0.609524</td>\n",
       "      <td>0.605769</td>\n",
       "      <td>K-Neighbors (KNN)</td>\n",
       "      <td>0.766667</td>\n",
       "      <td>0.769953</td>\n",
       "    </tr>\n",
       "    <tr>\n",
       "      <th>4</th>\n",
       "      <td>Support Vector Machine</td>\n",
       "      <td>0.752381</td>\n",
       "      <td>0.750000</td>\n",
       "      <td>Support Vector Machine</td>\n",
       "      <td>0.761905</td>\n",
       "      <td>0.757282</td>\n",
       "    </tr>\n",
       "    <tr>\n",
       "      <th>5</th>\n",
       "      <td>AdaBoost</td>\n",
       "      <td>0.795238</td>\n",
       "      <td>0.788177</td>\n",
       "      <td>AdaBoost</td>\n",
       "      <td>0.809524</td>\n",
       "      <td>0.811321</td>\n",
       "    </tr>\n",
       "  </tbody>\n",
       "</table>\n",
       "</div>"
      ],
      "text/plain": [
       "  Before Feature Engineering                     After Feature Engineering  \\\n",
       "                      Models  Accuracy  F1 Score                    Models   \n",
       "0        Logistic Regression  0.733333  0.711340       Logistic Regression   \n",
       "1              Decision tree  0.733333  0.708333             Decision tree   \n",
       "2              Random Forest  0.809524  0.801980             Random Forest   \n",
       "3          K-Neighbors (KNN)  0.609524  0.605769         K-Neighbors (KNN)   \n",
       "4     Support Vector Machine  0.752381  0.750000    Support Vector Machine   \n",
       "5                   AdaBoost  0.795238  0.788177                  AdaBoost   \n",
       "\n",
       "                       \n",
       "   Accuracy  F1 Score  \n",
       "0  0.733333  0.725490  \n",
       "1  0.857143  0.863636  \n",
       "2  0.871429  0.878924  \n",
       "3  0.766667  0.769953  \n",
       "4  0.761905  0.757282  \n",
       "5  0.809524  0.811321  "
      ]
     },
     "metadata": {},
     "output_type": "display_data"
    }
   ],
   "source": [
    "model_performance_accuracy = pd.DataFrame({'Models': ['Logistic Regression',\n",
    "                                                      'Decision tree', \n",
    "                                                      'Random Forest', \n",
    "                                                      'K-Neighbors (KNN)',\n",
    "                                                      'Support Vector Machine',\n",
    "                                                    'AdaBoost'],\n",
    "                                           \n",
    "                                          'Accuracy': [test_accuracy_logreg,\n",
    "                                                       test_accuracy_dt,\n",
    "                                                         test_accuracy_rfc,\n",
    "                                                         test_accuracy_knn,\n",
    "                                                         test_accuracy_svm,\n",
    "                                                        test_accuracy_adb ],\n",
    "                                           \n",
    "                                           'F1 Score': [test_f1_score_logreg,\n",
    "                                                        test_f1_score_dt,\n",
    "                                                         test_f1_score_rfc,\n",
    "                                                         test_f1_score_knn,\n",
    "                                                         test_f1_score_svm,\n",
    "                                                        test_f1_score_adb ]})\n",
    "\n",
    "\n",
    "\n",
    "model_performance_afterfeat = pd.DataFrame({'Models': ['Logistic Regression',\n",
    "                                                      'Decision tree', \n",
    "                                                      'Random Forest', \n",
    "                                                      'K-Neighbors (KNN)',\n",
    "                                                      'Support Vector Machine',\n",
    "                                                    'AdaBoost'],\n",
    "                                           \n",
    "                                          'Accuracy': [test_accuracy_logreg1,\n",
    "                                                       test_accuracy_dt1,\n",
    "                                                         test_accuracy_rfc1,\n",
    "                                                         test_accuracy_knn1,\n",
    "                                                         test_accuracy_svm1,\n",
    "                                                        test_accuracy_adb1 ],\n",
    "                                           \n",
    "                                           'F1 Score': [test_f1_score_logreg1,\n",
    "                                                        test_f1_score_dt1,\n",
    "                                                         test_f1_score_rfc1,\n",
    "                                                         test_f1_score_knn1,\n",
    "                                                         test_f1_score_svm1,\n",
    "                                                        test_f1_score_adb1 ]})\n",
    "\n",
    "# Concatenate the two dataframes\n",
    "combined_df = pd.concat([model_performance_accuracy, model_performance_afterfeat], axis=1, keys=['Before Feature Engineering','After Feature Engineering'])\n",
    "\n",
    "# Display the combined dataframe\n",
    "display(combined_df)"
   ]
  },
  {
   "cell_type": "code",
   "execution_count": null,
   "id": "9efac8e6-b160-49ed-87c7-39f5c9f0cb71",
   "metadata": {},
   "outputs": [],
   "source": []
  },
  {
   "cell_type": "code",
   "execution_count": null,
   "id": "f590f548-13a5-406a-bd07-0c0b8fe6458d",
   "metadata": {},
   "outputs": [],
   "source": []
  },
  {
   "cell_type": "markdown",
   "id": "de70d622-5930-4419-a1ca-7f05eea7ebf2",
   "metadata": {},
   "source": [
    "# ----------------------------------------------------------------------------------------------"
   ]
  }
 ],
 "metadata": {
  "kernelspec": {
   "display_name": "Python 3 (ipykernel)",
   "language": "python",
   "name": "python3"
  },
  "language_info": {
   "codemirror_mode": {
    "name": "ipython",
    "version": 3
   },
   "file_extension": ".py",
   "mimetype": "text/x-python",
   "name": "python",
   "nbconvert_exporter": "python",
   "pygments_lexer": "ipython3",
   "version": "3.9.12"
  }
 },
 "nbformat": 4,
 "nbformat_minor": 5
}
